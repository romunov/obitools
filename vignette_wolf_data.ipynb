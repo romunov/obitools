{
 "cells": [
  {
   "cell_type": "markdown",
   "metadata": {},
   "source": [
    "Downloadthe data into a `data/` folder."
   ]
  },
  {
   "cell_type": "code",
   "execution_count": 1,
   "metadata": {},
   "outputs": [],
   "source": [
    "import os, stat\n",
    "import requests\n",
    "\n",
    "import zipfile\n",
    "import shutil\n",
    "\n",
    "import docker\n",
    "from docker.errors import NotFound"
   ]
  },
  {
   "cell_type": "code",
   "execution_count": 2,
   "metadata": {},
   "outputs": [],
   "source": [
    "# Set files and folders.\n",
    "# This is the file which will hold tutorial data.\n",
    "wolfzip = 'wolfdata.zip'\n",
    "# Subfolder data into which all the tutorial related materials \n",
    "# will be stored.\n",
    "local_data = 'data'\n",
    "# This is the local folder from where this notebook is started.\n",
    "home_data = os.path.join(os.getcwd(), local_data)\n",
    "# The data folder from within the docker.\n",
    "docker_data = '/data'"
   ]
  },
  {
   "cell_type": "code",
   "execution_count": 3,
   "metadata": {},
   "outputs": [],
   "source": [
    "# If zip file is not present, download it.\n",
    "if not os.path.exists(wolfzip):\n",
    "    wolfdata = requests.get('https://pythonhosted.org/OBITools/_downloads/wolf_tutorial.zip',\n",
    "                    stream=True)\n",
    "\n",
    "    with open(wolfzip, 'wb') as zippy:\n",
    "        zippy.write(wolfdata.content)\n",
    "        \n",
    "# If data/ folder is not present, extract it from the zip archive.\n",
    "if not os.path.exists(local_data):\n",
    "    with zipfile.ZipFile(wolfzip, 'r') as zippy:\n",
    "        zippy.extractall('.')\n",
    "\n",
    "    # Rename extracted folder.\n",
    "    os.rename('wolf_tutorial', local_data)\n",
    "\n",
    "    os.remove(wolfzip)\n",
    "\n",
    "    os.chmod('data', stat.S_IRWXU | stat.S_IRWXG | stat.S_IRWXO)  # https://www.tutorialspoint.com/python/os_chmod.htm"
   ]
  },
  {
   "cell_type": "markdown",
   "metadata": {},
   "source": [
    "Prepare the docker container."
   ]
  },
  {
   "cell_type": "code",
   "execution_count": 4,
   "metadata": {},
   "outputs": [
    {
     "name": "stdout",
     "output_type": "stream",
     "text": [
      "Creating container obitools.\n"
     ]
    }
   ],
   "source": [
    "client = docker.from_env()\n",
    "\n",
    "try:\n",
    "    obt = client.containers.get('obitools')\n",
    "    if obt.status == 'exited':\n",
    "        print('Starting container obitools.')\n",
    "        obt.start()\n",
    "    else:\n",
    "        print('Container obitools ready.')\n",
    "except NotFound:\n",
    "    print('Creating container obitools.')\n",
    "    obt = client.containers.run(\n",
    "        image='romunov/obitools:1.2.13',\n",
    "        name='obitools',\n",
    "        # This maps local data folder to /data folder in container\n",
    "        volumes={home_data: {'bind': docker_data, 'mode': 'rw'}},\n",
    "        tty=True, detach=True\n",
    "        )"
   ]
  },
  {
   "cell_type": "markdown",
   "metadata": {},
   "source": [
    "Recover full sequence reads from forward and reverse partial reads"
   ]
  },
  {
   "cell_type": "code",
   "execution_count": 5,
   "metadata": {},
   "outputs": [],
   "source": [
    "scoremin = 40\n",
    "wolf_R = 'wolf_R.fastq'\n",
    "wolf_F = 'wolf_F.fastq'\n",
    "wolf_fastq = 'wolf.fastq'\n",
    "run_ipe = f'illuminapairedend --score-min={scoremin} -r {wolf_R} {wolf_F} > {wolf_fastq}'\n",
    "wolf_ipe = obt.exec_run(cmd = f'bash -c \"{run_ipe}\"',\n",
    "                        tty=True, workdir=docker_data)"
   ]
  },
  {
   "cell_type": "code",
   "execution_count": 6,
   "metadata": {},
   "outputs": [
    {
     "name": "stdout",
     "output_type": "stream",
     "text": [
      "@HELIUM_000100422_612GNAAXX:7:119:14871:19157#0/1_CONS ali_length=61; direction=left; seq_ab_match=47; sminR=40.0; score=115.761290673; seq_a_mismatch=7; seq_b_deletion=1; seq_b_mismatch=7; seq_a_deletion=1; score_norm=1.89772607661; seq_b_insertion=0; seq_a_insertion=0; mode=alignment; sminL=40.0; seq_a_single=46; seq_b_single=46; \n",
      "ccgcctcctttagataccccactatgcttagccctaaacacaagtaattattataacaaaatcattcgccagagtgtagcgggagtaggttaaaactcaaaggacttggcggtgctttatacccttctagaggagcctgttctaaggaggcgg\n",
      "+\n",
      "ddddddddddddddddddddddcddddcacdddddddddddddc\\d~b~~~b~~~~~~b`ryK~|uxyXk`}~ccBccBcccBcBcccBcBccccccc~~~~b|~~xdbaddaaWcccdaaddddadacddddddcddadbbddddddddddd\n",
      "\n"
     ]
    }
   ],
   "source": [
    "print(obt.exec_run(cmd=f'bash -c \"head -n 4 {wolf_fastq}\"', workdir=docker_data).output.decode(\"ascii\"))  # see head of the result"
   ]
  },
  {
   "cell_type": "markdown",
   "metadata": {},
   "source": [
    "Remove unaligned sequence records"
   ]
  },
  {
   "cell_type": "code",
   "execution_count": 7,
   "metadata": {},
   "outputs": [],
   "source": [
    "wolf_aligned = 'wolf_aligned.fastq'\n",
    "run_rsr = f'obigrep -p \\\\\\'mode!=\\\"joined\\\"\\\\\\' {wolf_fastq} > {wolf_aligned}'\n",
    "wolf_rsr = obt.exec_run(cmd=f'bash -c \"{run_rsr}\"',\n",
    "                       tty=True, workdir=docker_data)"
   ]
  },
  {
   "cell_type": "code",
   "execution_count": 8,
   "metadata": {},
   "outputs": [
    {
     "name": "stdout",
     "output_type": "stream",
     "text": [
      "wolf.fastq  99.5 % |#################################################\\ ] remain : 00:00:00\n",
      "\n"
     ]
    }
   ],
   "source": [
    "print(wolf_rsr.output.decode('ascii'))"
   ]
  },
  {
   "cell_type": "markdown",
   "metadata": {},
   "source": [
    "Assign each sequence record to the corresponding sample/marker combination"
   ]
  },
  {
   "cell_type": "code",
   "execution_count": 9,
   "metadata": {},
   "outputs": [],
   "source": [
    "wolf_unid = 'unidentified.fastq'\n",
    "wolf_assigned = 'wolf_aligned_assigned.fastq'\n",
    "ngs_filter = 'wolf_diet_ngsfilter.txt'\n",
    "run_aes = f'ngsfilter -t {ngs_filter} -u {wolf_unid} {wolf_aligned} > {wolf_assigned}'\n",
    "wolf_aes = obt.exec_run(cmd=f'bash -c \"{run_aes}\"',\n",
    "                       tty=True, workdir=docker_data)"
   ]
  },
  {
   "cell_type": "markdown",
   "metadata": {},
   "source": [
    "Dereplicate reads into uniq sequences"
   ]
  },
  {
   "cell_type": "code",
   "execution_count": 10,
   "metadata": {},
   "outputs": [],
   "source": [
    "wolf_unique = 'wolf_aligned_assigned_uniq.fasta'\n",
    "run_drp = f'obiuniq -m sample {wolf_assigned} > {wolf_unique}'\n",
    "wolf_drp = obt.exec_run(cmd=f'bash -c \"{run_drp}\"',\n",
    "                       tty=True, workdir=docker_data)"
   ]
  },
  {
   "cell_type": "code",
   "execution_count": 11,
   "metadata": {},
   "outputs": [],
   "source": [
    "run_fih = f'obiannotate -k count -k merged_sample {wolf_unique} > $$ ; mv $$ {wolf_unique}'\n",
    "wolf_fih = obt.exec_run(cmd=f'bash -c \"{run_fih}\"',\n",
    "                       tty=True, workdir=docker_data)"
   ]
  },
  {
   "cell_type": "markdown",
   "metadata": {},
   "source": [
    "Denoise the data"
   ]
  },
  {
   "cell_type": "code",
   "execution_count": 12,
   "metadata": {},
   "outputs": [],
   "source": [
    "wolf_unique_filtered = 'wolf_ali_assigned_uniq_c10_l80.fasta'\n",
    "run_dns = f'obigrep -l 80 -p \\'count>=10\\' {wolf_unique} > {wolf_unique_filtered}'\n",
    "wolf_dns = obt.exec_run(cmd=f'bash -c \"{run_dns}\"',\n",
    "                       tty=True, workdir=docker_data)"
   ]
  },
  {
   "cell_type": "markdown",
   "metadata": {},
   "source": [
    "Clean the sequences for PCR/sequencing errors (sequence variants)"
   ]
  },
  {
   "cell_type": "code",
   "execution_count": 13,
   "metadata": {},
   "outputs": [],
   "source": [
    "wolf_unique_filtered_clean = 'wolf_ali_assigned_uniq_c10_l80_clean.fasta'\n",
    "run_cpcr = f'obiclean -s merged_sample -r 0.05 -H {wolf_unique_filtered} > {wolf_unique_filtered_clean}'\n",
    "wolf_cpcr = obt.exec_run(cmd=f'bash -c \"{run_cpcr}\"',\n",
    "                       tty=True, workdir=docker_data)"
   ]
  },
  {
   "cell_type": "code",
   "execution_count": 14,
   "metadata": {},
   "outputs": [
    {
     "name": "stdout",
     "output_type": "stream",
     "text": [
      ">HELIUM_000100422_612GNAAXX:7:22:8540:14708#0/1_CONS_SUB_SUB_CMP merged_sample={'29a_F260619': 4697, '15a_F730814': 7638}; obiclean_count={'29a_F260619': 5438, '15a_F730814': 8642}; obiclean_head=True; obiclean_cluster={'29a_F260619': 'HELIUM_000100422_612GNAAXX:7:22:8540:14708#0/1_CONS_SUB_SUB_CMP', '15a_F730814': 'HELIUM_000100422_612GNAAXX:7:22:8540:14708#0/1_CONS_SUB_SUB_CMP'}; count=12335; obiclean_internalcount=0; obiclean_status={'29a_F260619': 'h', '15a_F730814': 'h'}; obiclean_samplecount=2; obiclean_headcount=2; obiclean_singletoncount=0; \n",
      "ttagccctaaacacaagtaattaatataacaaaattattcgccagagtactaccggcaat\n",
      "\n"
     ]
    }
   ],
   "source": [
    "print(obt.exec_run(cmd=f'bash -c \"head -n 2 {wolf_unique_filtered_clean}\"', workdir=docker_data).output.decode(\"ascii\")) "
   ]
  },
  {
   "cell_type": "markdown",
   "metadata": {},
   "source": [
    "Assign each sequence to a taxon"
   ]
  },
  {
   "cell_type": "code",
   "execution_count": 15,
   "metadata": {},
   "outputs": [],
   "source": [
    "embl = 'embl_r117'\n",
    "db = 'db_v05_r117.fasta'\n",
    "wolf_tagged = 'wolf_ali_assigned_uniq_c10_l80_clean_tag.fasta'\n",
    "run_ass = f'ecotag -d {embl} -R {db} {wolf_unique_filtered_clean} > {wolf_tagged}'\n",
    "wolf_ass = obt.exec_run(cmd=f'bash -c \"{run_ass}\"',\n",
    "                       tty=True, workdir=docker_data)"
   ]
  },
  {
   "cell_type": "markdown",
   "metadata": {},
   "source": [
    "Annotate"
   ]
  },
  {
   "cell_type": "code",
   "execution_count": 18,
   "metadata": {},
   "outputs": [],
   "source": [
    "wolf_tag_ann = 'wolf_ali_assigned_uniq_c10_l80_clean_tag_ann.fasta'\n",
    "run_ann = f'obiannotate  --delete-tag=scientific_name_by_db --delete-tag=obiclean_samplecount \\\n",
    "  --delete-tag=obiclean_count --delete-tag=obiclean_singletoncount \\\n",
    "  --delete-tag=obiclean_cluster --delete-tag=obiclean_internalcount \\\n",
    "  --delete-tag=obiclean_head --delete-tag=taxid_by_db --delete-tag=obiclean_headcount \\\n",
    "  --delete-tag=id_status --delete-tag=rank_by_db --delete-tag=order_name \\\n",
    "  --delete-tag=order {wolf_tagged} > {wolf_tag_ann}'\n",
    "wolf_ann = obt.exec_run(cmd=f'bash -c \"{run_ann}\"',\n",
    "                       tty=True, workdir=docker_data)"
   ]
  },
  {
   "cell_type": "markdown",
   "metadata": {},
   "source": [
    "Create final result (a TAB file)"
   ]
  },
  {
   "cell_type": "code",
   "execution_count": 19,
   "metadata": {},
   "outputs": [],
   "source": [
    "wolf_final = 'wolf_ali_assigned_uniq_c10_l80_clean_tag_ann_sort.tab'\n",
    "run_tab = f'obitab -o {wolf_tag_ann} > {wolf_final}'\n",
    "wolf_tab = obt.exec_run(cmd=f'bash -c \"{run_tab}\"',\n",
    "                       tty=True, workdir=docker_data)"
   ]
  },
  {
   "cell_type": "code",
   "execution_count": 23,
   "metadata": {},
   "outputs": [
    {
     "name": "stdout",
     "output_type": "stream",
     "text": [
      "id\tdefinition\tbest_identity:db_v05_r117\tbest_match:db_v05_r117\tcount\tfamily\tfamily_name\tgenus\tgenus_name\tmatch_count:db_v05_r117\tsample:13a_F730603\tsample:15a_F730814\tsample:26a_F040644\tsample:29a_F260619\tobiclean_status:13a_F730603\tobiclean_status:15a_F730814\tobiclean_status:26a_F040644\tobiclean_status:29a_F260619\trank\tscientific_name\tspecies\tspecies_list:db_v05_r117\tspecies_name\ttaxid\tsequence\n",
      "HELIUM_000100422_612GNAAXX:7:22:8540:14708#0/1_CONS_SUB_SUB_CMP\t\t1.0\tAJ885202\t12335\t9850\tCervidae\t9857\tCapreolus\t1\t0\t7638\t0\t4697\tNA\th\tNA\th\tspecies\tCapreolus capreolus\t9858\t['Capreolus capreolus']\tCapreolus capreolus\t9858\tttagccctaaacacaagtaattaatataacaaaattattcgccagagtactaccggcaatagcttaaaactcaaaggacttggcggtgctttataccctt\n",
      "HELIUM_000100422_612GNAAXX:7:57:18459:16145#0/1_CONS_SUB_SUB\t\t0.979797979798\tAY227529\t10490\t55153\tSciuridae\t9992\tMarmota\t2\t0\t0\t10490\t0\tNA\tNA\th\tNA\tgenus\tMarmota\tNA\t['Marmota monax', 'Marmota himalayana']\tNA\t9992\tttagccctaaacataaacattcaataaacaagaatgttcgccagagtactactagcaacagcctgaaactcaaaggacttggcggtgctttacatccct\n",
      "HELIUM_000100422_612GNAAXX:7:89:10281:5930#0/1_CONS_SUB_SUB\t\t0.940594059406\tAF154263\t272\tNA\tNA\tNA\tNA\t81\t0\t0\t0\t272\tNA\tNA\tNA\ts\tinfraorder\tPecora\tNA\t[]\tNA\t35500\tttagccctaaacacaaataattacacaaacaaaattgttcaccagagtactagcggcaacagcttaaaactcaaaggacttggcggtgctttataccctt\n",
      "HELIUM_000100422_612GNAAXX:7:29:15520:18035#0/1_CONS_SUB_SUB_CMP\t\t1.0\tAJ972683\t325\t9850\tCervidae\t9857\tCapreolus\t1\t0\t0\t0\t325\tNA\tNA\tNA\th\tspecies\tCapreolus capreolus\t9858\t['Capreolus capreolus']\tCapreolus capreolus\t9858\tttagccctaaacacaagtaattattataacaaaattattcgccagagtactaccggcaatagcttaaaactcaaaggacttggcggtgctttataccctt\n",
      "HELIUM_000100422_612GNAAXX:7:6:9274:14951#0/1_CONS_SUB_SUB_CMP\t\t1.0\tAB245427\t7307\t9850\tCervidae\t9859\tCervus\t1\t7307\t0\t0\t0\th\tNA\tNA\tNA\tspecies\tCervus elaphus\t9860\t['Cervus elaphus']\tCervus elaphus\t9860\tctagccttaaacacaaatagttatgcaaacaaaactattcgccagagtactaccggcaatagcttaaaactcaaaggacttggcggtgctttataccctt\n",
      "HELIUM_000100422_612GNAAXX:7:13:6954:13039#0/1_CONS_SUB_SUB\t\t0.949494949495\tAY227529\t88\t55153\tSciuridae\tNA\tNA\t4\t0\t0\t88\t0\tNA\tNA\ts\tNA\ttribe\tMarmotini\tNA\t['Xerospermophilus mohavensis', 'Marmota monax', 'Callospermophilus lateralis', 'Marmota himalayana']\tNA\t337730\tttagccctaaacataaacattcaataaacaagaatgttcgccagaggactactagcaatagcttaaaactcaaaggacttggcggtgctttatatccct\n",
      "HELIUM_000100422_612GNAAXX:7:98:10056:18748#0/1_CONS_SUB_SUB_CMP\t\t0.969696969697\tAY227529\t16\t55153\tSciuridae\t9992\tMarmota\t2\t0\t0\t16\t0\tNA\tNA\ts\tNA\tgenus\tMarmota\tNA\t['Marmota monax', 'Marmota himalayana']\tNA\t9992\tttagccctaaacataaacattcaataaacaagaatgttcgccagagtactactagcaatagcttaaaactcaaaggacttggcggtgctttacatccct\n",
      "HELIUM_000100422_612GNAAXX:7:54:9724:16321#0/1_CONS_SUB_SUB_CMP\t\t0.959595959596\tEU442884\t26\t9608\tCanidae\tNA\tNA\t10\t0\t0\t26\t0\tNA\tNA\ts\tNA\tfamily\tCanidae\tNA\t['Nyctereutes procyonoides', 'Canis lupus', 'Canis latrans', 'Canis aureus', 'Cuon alpinus']\tNA\t9608\tttagccctaaacatagataattttacaacaaaataattcgccagagtactactagcaacagcctgaaactcaaaggacttggcggtgctttacatccct\n",
      "HELIUM_000100422_612GNAAXX:7:78:2653:17923#0/1_CONS_SUB_SUB_CMP\t\t0.959595959596\tAC187326\t101\t9608\tCanidae\t9611\tCanis\t2\t0\t0\t12\t89\tNA\tNA\ts\ts\tsubspecies\tCanis lupus familiaris\t9612\t['Canis lupus']\tCanis lupus\t9615\tttagccctaaacataagctattccataacaaaataattcgccagagaactactagcaacagattaaacctcaaaggacttggcagtgctttatacccct\n",
      "\n"
     ]
    }
   ],
   "source": [
    "print(obt.exec_run(cmd=f'bash -c \"head {wolf_final}\"', tty=True, workdir=docker_data).output.decode('ascii'))"
   ]
  }
 ],
 "metadata": {
  "kernelspec": {
   "display_name": "Python 3",
   "language": "python",
   "name": "python3"
  },
  "language_info": {
   "codemirror_mode": {
    "name": "ipython",
    "version": 3
   },
   "file_extension": ".py",
   "mimetype": "text/x-python",
   "name": "python",
   "nbconvert_exporter": "python",
   "pygments_lexer": "ipython3",
   "version": "3.6.5"
  }
 },
 "nbformat": 4,
 "nbformat_minor": 2
}
